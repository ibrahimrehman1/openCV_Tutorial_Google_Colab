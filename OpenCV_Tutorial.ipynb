{
  "nbformat": 4,
  "nbformat_minor": 0,
  "metadata": {
    "colab": {
      "name": "OpenCV Tutorial.ipynb",
      "provenance": [],
      "collapsed_sections": [],
      "authorship_tag": "ABX9TyP2z6/M4GIXxzsYsDXHNm2C",
      "include_colab_link": true
    },
    "kernelspec": {
      "name": "python3",
      "display_name": "Python 3"
    },
    "language_info": {
      "name": "python"
    }
  },
  "cells": [
    {
      "cell_type": "markdown",
      "metadata": {
        "id": "view-in-github",
        "colab_type": "text"
      },
      "source": [
        "<a href=\"https://colab.research.google.com/github/ibrahimrehman1/openCV_Tutorial_Google_Colab/blob/main/OpenCV_Tutorial.ipynb\" target=\"_parent\"><img src=\"https://colab.research.google.com/assets/colab-badge.svg\" alt=\"Open In Colab\"/></a>"
      ]
    },
    {
      "cell_type": "code",
      "metadata": {
        "id": "Y5a_OprG1Sp2",
        "colab": {
          "base_uri": "https://localhost:8080/",
          "height": 497
        },
        "outputId": "61988110-cc78-439e-d3be-249e2d0eea66"
      },
      "source": [
        "import cv2\n",
        "import numpy as np\n",
        "from google.colab.patches import cv2_imshow\n",
        "\n",
        "image = cv2.imread(\"./images/shapes.png\")\n",
        "gray = cv2.cvtColor(image, cv2.COLOR_BGR2GRAY)\n",
        "\n",
        "ret, thresh = cv2.threshold(gray, 50, 255, 1)\n",
        "contours, h = cv2.findContours(thresh, 1, 2)\n",
        "for cnt in contours:\n",
        "  approx = cv2.approxPolyDP(cnt, 0.01 * cv2.arcLength(cnt, True), True)\n",
        "  n = len(approx)\n",
        "\n",
        "  if (n == 4):\n",
        "    cv2.drawContours(image, [cnt], 0, 255, 2)\n",
        "\n",
        "  elif (n == 16):\n",
        "    cv2.drawContours(image, [cnt], 0, 150, 2)\n",
        "\n",
        "  elif (n == 3):\n",
        "    cv2.drawContours(image, [cnt], 0, 0, 2)\n",
        "\n",
        "cv2_imshow(image)"
      ],
      "execution_count": 30,
      "outputs": [
        {
          "output_type": "display_data",
          "data": {
            "image/png": "[encoded data removed]",
            "text/plain": [
              "<PIL.Image.Image image mode=RGB size=640x480 at 0x7F0B641195D0>"
            ]
          },
          "metadata": {
            "tags": []
          }
        }
      ]
    }
  ]
}