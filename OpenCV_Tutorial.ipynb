{
  "nbformat": 4,
  "nbformat_minor": 0,
  "metadata": {
    "colab": {
      "name": "OpenCV Tutorial.ipynb",
      "provenance": [],
      "collapsed_sections": [],
      "authorship_tag": "ABX9TyP0SKAFIcA+GpoD5GU1CKQK",
      "include_colab_link": true
    },
    "kernelspec": {
      "name": "python3",
      "display_name": "Python 3"
    },
    "language_info": {
      "name": "python"
    }
  },
  "cells": [
    {
      "cell_type": "markdown",
      "metadata": {
        "id": "view-in-github",
        "colab_type": "text"
      },
      "source": [
        "<a href=\"https://colab.research.google.com/github/ibrahimrehman1/openCV_Tutorial_Google_Colab/blob/main/OpenCV_Tutorial.ipynb\" target=\"_parent\"><img src=\"https://colab.research.google.com/assets/colab-badge.svg\" alt=\"Open In Colab\"/></a>"
      ]
    },
    {
      "cell_type": "code",
      "metadata": {
        "id": "Y5a_OprG1Sp2"
      },
      "source": [
        "import cv2\n",
        "from google.colab.patches import cv2_imshow\n",
        "import numpy as np\n",
        "\n",
        "out = cv2.VideoWriter(\"output.avi\", cv2.VideoWriter_fourcc(\"M\", \"J\", 'P', \"G\"), 10, (1920, 1980))\n",
        "cap = cv2.VideoCapture(\"./videos/video.mp4\")\n",
        "while cap.isOpened():\n",
        "  ret, frame = cap.read()\n",
        "  if ret is False:\n",
        "    break\n",
        "\n",
        "  hsv = cv2.cvtColor(frame, cv2.COLOR_BGR2HSV)\n",
        "  lower_hue = np.array([21, 0, 0])\n",
        "  upper_hue = np.array([50, 0, 0])\n",
        "  mask = cv2.inRange(hsv, lower_hue, upper_hue)\n",
        "\n",
        "  (contours, _) = cv2.findContours(mask, cv2.RETR_TREE, cv2.CHAIN_APPROX)\n",
        "  center = None\n",
        "\n",
        "  if len(contours) > 0:\n",
        "    c = max(contours, key=cv2.contourArea)\n",
        "    ((x, y), radius) = cv2.minEnclosingCircle(c)\n",
        "    M = cv2.moments(c)\n",
        "    try:\n",
        "      center = (int(M[\"m10\"]/M[\"m00\"]), int(M[\"m01\"]/M[\"m00\"]))\n",
        "      cv2.circle(frame, center, 10, (255, 0, 0), -1)\n",
        "      ball.append(center)\n",
        "\n",
        "    except:\n",
        "      pass\n",
        "\n",
        "    if len(ball) > 2:\n",
        "      for i in range(1, len(ball)):\n",
        "        cv2.line(frame, ball[i-1], ball[i], (0, 0, 255), 5)\n",
        "    out.write(frame)\n",
        "out.release()"
      ],
      "execution_count": null,
      "outputs": []
    }
  ]
}